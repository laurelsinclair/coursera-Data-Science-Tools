{
    "cells": [
        {
            "cell_type": "markdown",
            "metadata": {},
            "source": "I think this is flight controller data from Responder"
        },
        {
            "cell_type": "code",
            "execution_count": 3,
            "metadata": {
                "scrolled": true
            },
            "outputs": [
                {
                    "name": "stdout",
                    "output_type": "stream",
                    "text": "+---+-------------------+-------------+--------------+------+-----+----+-----+------+----------+\n| ID|           unixtime|      easting|      northing|   alt|  yaw|roll|pitch|relalt|   systime|\n+---+-------------------+-------------+--------------+------+-----+----+-----+------+----------+\n|  1|1.521497311203484E9|509396.489373|5573546.531938|707.68|63.05|2.76|-1.83|   0.0|606.028357|\n|  2|1.521497311802977E9|509396.475093|5573546.554151|707.68|63.05|2.77|-1.82|   0.0| 606.04783|\n|  3| 1.52149731182218E9|509396.475093|5573546.554151|707.68|63.05|2.75|-1.85|   0.0|606.067033|\n|  4|1.521497311842023E9|509396.475093|5573546.554151|707.68|63.05|2.74|-1.89|   0.0|606.086876|\n|  5|1.521497311863703E9|509396.475093|5573546.554151|707.59|63.05|2.72|-1.91|   0.0|606.108556|\n+---+-------------------+-------------+--------------+------+-----+----+-----+------+----------+\nonly showing top 5 rows\n\n"
                },
                {
                    "data": {
                        "text/plain": "configurationName = os_637ae6eaf5b24800a1a3be2c9b65f2b3_configs\ncos = com.ibm.ibmos2spark.CloudObjectStorage@cabe0eb9\nspark = org.apache.spark.sql.SparkSession@8e5bb9d8\ndfData1 = [ID: int, unixtime: double ... 8 more fields]\n"
                    },
                    "metadata": {},
                    "output_type": "display_data"
                },
                {
                    "data": {
                        "text/plain": "getCredentials: ()scala.collection.mutable.HashMap[String,String]\n"
                    },
                    "metadata": {},
                    "output_type": "display_data"
                },
                {
                    "data": {
                        "text/plain": "[ID: int, unixtime: double ... 8 more fields]"
                    },
                    "execution_count": 3,
                    "metadata": {},
                    "output_type": "execute_result"
                }
            ],
            "source": "// The code was removed by Watson Studio for sharing."
        }
    ],
    "metadata": {
        "kernelspec": {
            "display_name": "Scala 2.12 with Spark",
            "language": "scala",
            "name": "scala"
        },
        "language_info": {
            "codemirror_mode": "text/x-scala",
            "file_extension": ".scala",
            "mimetype": "text/x-scala",
            "name": "scala",
            "pygments_lexer": "scala",
            "version": "2.12.12"
        }
    },
    "nbformat": 4,
    "nbformat_minor": 1
}